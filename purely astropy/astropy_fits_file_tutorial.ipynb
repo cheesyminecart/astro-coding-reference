{
 "cells": [
  {
   "cell_type": "markdown",
   "metadata": {},
   "source": [
    "# Tutorial 1 - .fits files and spectral cubes"
   ]
  },
  {
   "cell_type": "code",
   "execution_count": 1,
   "metadata": {},
   "outputs": [],
   "source": [
    "# imports\n",
    "import numpy as np\n",
    "import matplotlib.pyplot as plt\n",
    "from matplotlib.colors import LogNorm\n",
    "\n",
    "import astropy.units as u\n",
    "from astropy.utils.data import download_file\n",
    "from astropy.io import fits  # We use fits to open the actual data file\n",
    "\n",
    "from astropy.utils import data\n",
    "data.conf.remote_timeout = 60\n",
    "\n",
    "from spectral_cube import SpectralCube\n",
    "\n",
    "from astroquery.esasky import ESASky\n",
    "from astroquery.utils import TableList\n",
    "from astropy.wcs import WCS\n",
    "from reproject import reproject_interp\n"
   ]
  },
  {
   "cell_type": "markdown",
   "metadata": {},
   "source": [
    "Let's start off with some basic astropy-code! The documentation's a little intimidating so I'll be trying to break it down. Astropy isn't really made for those just starting out with python - so this format's going to be rather experimental, to say the least. Let's go ahead and see what our first example is. \n",
    "\n",
    "Astroquery: taking data files from reputed sources e.g GAIA or the Kepler Archives.\n",
    "\n",
    "just going to be following the .fits tutorial given here!"
   ]
  },
  {
   "cell_type": "code",
   "execution_count": null,
   "metadata": {},
   "outputs": [],
   "source": [
    "# Downloads the HI data in a fits file format\n",
    "hi_datafile = download_file(\n",
    "    'http://data.astropy.org/tutorials/FITS-cubes/reduced_TAN_C14.fits',\n",
    "    cache=True, show_progress=True)\n",
    "\n",
    "# this turns the .fits file into a spectralcube data file!\n",
    "hi_data = fits.open(hi_datafile)  # Open the FITS file for reading\n",
    "cube = SpectralCube.read(hi_data)  # Initiate a SpectralCube\n",
    "hi_data.close()  # Close the FITS file - we already read it in and don't need it anymore!\n",
    "\n",
    "cube = [300, :, :].quicklook() #slice to get a data sneak peek \n",
    "cube[:, 75, 75].quicklook()  # extract a spectrum with two values given! "
   ]
  },
  {
   "cell_type": "markdown",
   "metadata": {},
   "source": [
    "Just checking out our file and figuring how to import it - no new data analysis... yet. "
   ]
  },
  {
   "cell_type": "code",
   "execution_count": null,
   "metadata": {},
   "outputs": [],
   "source": []
  },
  {
   "cell_type": "code",
   "execution_count": null,
   "metadata": {},
   "outputs": [],
   "source": []
  },
  {
   "cell_type": "code",
   "execution_count": null,
   "metadata": {},
   "outputs": [],
   "source": []
  }
 ],
 "metadata": {
  "kernelspec": {
   "display_name": "Python 3",
   "language": "python",
   "name": "python3"
  },
  "language_info": {
   "codemirror_mode": {
    "name": "ipython",
    "version": 3
   },
   "file_extension": ".py",
   "mimetype": "text/x-python",
   "name": "python",
   "nbconvert_exporter": "python",
   "pygments_lexer": "ipython3",
   "version": "3.11.4"
  },
  "orig_nbformat": 4
 },
 "nbformat": 4,
 "nbformat_minor": 2
}
