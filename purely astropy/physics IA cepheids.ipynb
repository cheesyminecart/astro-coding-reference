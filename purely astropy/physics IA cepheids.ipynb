{
 "cells": [
  {
   "cell_type": "code",
   "execution_count": 1,
   "metadata": {},
   "outputs": [],
   "source": [
    "from astroquery.gaia import Gaia #base module"
   ]
  },
  {
   "cell_type": "code",
   "execution_count": 24,
   "metadata": {},
   "outputs": [
    {
     "name": "stdout",
     "output_type": "stream",
     "text": [
      "Retrieving table 'gaiadr3.vari_cepheid'\n",
      "TAP Table name: gaiadr3.gaiadr3.vari_cepheid\n",
      "Description: This table describes the Cepheid stars.\n",
      "Num. columns: 81\n"
     ]
    }
   ],
   "source": [
    "table = Gaia.load_table('gaiadr3.vari_cepheid') #check metadata + find table name \n",
    "\n",
    "print(table)\n",
    "\n"
   ]
  },
  {
   "cell_type": "code",
   "execution_count": 34,
   "metadata": {},
   "outputs": [
    {
     "name": "stdout",
     "output_type": "stream",
     "text": [
      "        pf        \n",
      "        d         \n",
      "------------------\n",
      "14.653433151553722\n",
      " 39.63436325796842\n",
      " 6.463491956463242\n",
      " 2.113783399889267\n",
      "                --\n",
      " 1.668081278866357\n",
      "                --\n",
      " 4.248020555103831\n",
      "                --\n",
      "                --\n",
      "               ...\n",
      "3.7594449744743166\n",
      "3.5425321848533815\n",
      " 6.569716592153157\n",
      "14.967209633607453\n",
      " 4.716320964501767\n",
      " 3.082408178900577\n",
      "                --\n",
      "3.2948668284952753\n",
      "23.311677172203897\n",
      " 19.57540832056747\n",
      "Length = 100 rows\n"
     ]
    }
   ],
   "source": [
    "job = Gaia.launch_job(\"select top 100 \"\n",
    "                      \"source_id, pf, int_average_g \"\n",
    "                      \"from gaiadr3.vari_cepheid order by source_id\")\n",
    "\n",
    "r = job.get_results()\n",
    "\n",
    "print(r['pf'])"
   ]
  }
 ],
 "metadata": {
  "kernelspec": {
   "display_name": "Python 3",
   "language": "python",
   "name": "python3"
  },
  "language_info": {
   "codemirror_mode": {
    "name": "ipython",
    "version": 3
   },
   "file_extension": ".py",
   "mimetype": "text/x-python",
   "name": "python",
   "nbconvert_exporter": "python",
   "pygments_lexer": "ipython3",
   "version": "3.11.4"
  },
  "orig_nbformat": 4
 },
 "nbformat": 4,
 "nbformat_minor": 2
}
