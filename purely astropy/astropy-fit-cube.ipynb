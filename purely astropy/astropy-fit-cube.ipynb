{
 "cells": [
  {
   "cell_type": "code",
   "execution_count": 38,
   "metadata": {},
   "outputs": [],
   "source": [
    "import numpy as np\n",
    "import matplotlib.pyplot as plt\n",
    "from matplotlib.colors import LogNorm\n",
    "\n",
    "import astropy.units as u\n",
    "from astropy.utils.data import download_file\n",
    "from astropy.io import fits  # We use fits to open the actual data file\n",
    "\n",
    "from astropy.utils import data\n",
    "data.conf.remote_timeout = 60\n",
    "\n",
    "from spectral_cube import SpectralCube\n",
    "from spectral_cube import StokesSpectralCube\n",
    "\n",
    "from astroquery.esasky import ESASky\n",
    "from astroquery.utils import TableList\n",
    "from astropy.wcs import WCS\n",
    "from reproject import reproject_interp\n",
    "\n"
   ]
  },
  {
   "cell_type": "code",
   "execution_count": 69,
   "metadata": {},
   "outputs": [
    {
     "ename": "ValueError",
     "evalue": "ERROR 5 in wcsset() at line 2808 of file cextern/wcslib/C/wcs.c:\nInvalid parameter value.\nERROR 4 in linset() at line 737 of file cextern/wcslib/C/lin.c:\nFailed to initialize distortion functions.\nERROR 3 in dssset() at line 2716 of file cextern/wcslib/C/dis.c:\nCoefficient scale for DSS on axis 1 is zero..\n",
     "output_type": "error",
     "traceback": [
      "\u001b[0;31m---------------------------------------------------------------------------\u001b[0m",
      "\u001b[0;31mValueError\u001b[0m                                Traceback (most recent call last)",
      "Cell \u001b[0;32mIn[69], line 5\u001b[0m\n\u001b[1;32m      2\u001b[0m gaia_datafile \u001b[38;5;241m=\u001b[39m download_file(\u001b[38;5;124m'\u001b[39m\u001b[38;5;124mhttp://202.189.117.101:8999/gpne/download.php?p=f&f=2322/SHS/quot_HaSr_id2322_b1_wquot_HaSr.fits\u001b[39m\u001b[38;5;124m'\u001b[39m)\n\u001b[1;32m      4\u001b[0m hi_data \u001b[38;5;241m=\u001b[39m fits\u001b[38;5;241m.\u001b[39mopen(gaia_datafile)  \u001b[38;5;66;03m# Open the FITS file for reading\u001b[39;00m\n\u001b[0;32m----> 5\u001b[0m cube \u001b[38;5;241m=\u001b[39m \u001b[43mSpectralCube\u001b[49m\u001b[38;5;241;43m.\u001b[39;49m\u001b[43mread\u001b[49m\u001b[43m(\u001b[49m\u001b[43mhi_data\u001b[49m\u001b[43m)\u001b[49m  \u001b[38;5;66;03m# Initiate a SpectralCube\u001b[39;00m\n\u001b[1;32m      6\u001b[0m hi_data\u001b[38;5;241m.\u001b[39mclose()  \u001b[38;5;66;03m# Close the FITS file - we already read it in and don't need it anymore!\u001b[39;00m\n\u001b[1;32m      8\u001b[0m \u001b[38;5;28mprint\u001b[39m(cube)\n",
      "File \u001b[0;32m~/Library/Python/3.9/lib/python/site-packages/spectral_cube/io/core.py:118\u001b[0m, in \u001b[0;36mSpectralCubeRead.__call__\u001b[0;34m(self, filename, *args, **kwargs)\u001b[0m\n\u001b[1;32m    116\u001b[0m kwargs[\u001b[38;5;124m'\u001b[39m\u001b[38;5;124mtarget_cls\u001b[39m\u001b[38;5;124m'\u001b[39m] \u001b[38;5;241m=\u001b[39m BaseSpectralCube\n\u001b[1;32m    117\u001b[0m \u001b[38;5;28;01mtry\u001b[39;00m:\n\u001b[0;32m--> 118\u001b[0m     \u001b[38;5;28;01mreturn\u001b[39;00m \u001b[43mregistry\u001b[49m\u001b[38;5;241;43m.\u001b[39;49m\u001b[43mread\u001b[49m\u001b[43m(\u001b[49m\u001b[43mBaseSpectralCube\u001b[49m\u001b[43m,\u001b[49m\u001b[43m \u001b[49m\u001b[43mfilename\u001b[49m\u001b[43m,\u001b[49m\u001b[43m \u001b[49m\u001b[38;5;241;43m*\u001b[39;49m\u001b[43margs\u001b[49m\u001b[43m,\u001b[49m\u001b[43m \u001b[49m\u001b[38;5;241;43m*\u001b[39;49m\u001b[38;5;241;43m*\u001b[39;49m\u001b[43mkwargs\u001b[49m\u001b[43m)\u001b[49m\n\u001b[1;32m    119\u001b[0m \u001b[38;5;28;01mexcept\u001b[39;00m \u001b[38;5;167;01mIsADirectoryError\u001b[39;00m:  \u001b[38;5;66;03m# See note above StringWrapper\u001b[39;00m\n\u001b[1;32m    120\u001b[0m     \u001b[38;5;28;01mreturn\u001b[39;00m registry\u001b[38;5;241m.\u001b[39mread(BaseSpectralCube, StringWrapper(filename), \u001b[38;5;241m*\u001b[39margs, \u001b[38;5;241m*\u001b[39m\u001b[38;5;241m*\u001b[39mkwargs)\n",
      "File \u001b[0;32m~/Library/Python/3.9/lib/python/site-packages/astropy/io/registry/compat.py:52\u001b[0m, in \u001b[0;36m_make_io_func.<locals>.wrapper\u001b[0;34m(registry, *args, **kwargs)\u001b[0m\n\u001b[1;32m     50\u001b[0m     registry \u001b[38;5;241m=\u001b[39m default_registry\n\u001b[1;32m     51\u001b[0m \u001b[38;5;66;03m# get and call bound method from registry instance\u001b[39;00m\n\u001b[0;32m---> 52\u001b[0m \u001b[38;5;28;01mreturn\u001b[39;00m \u001b[38;5;28;43mgetattr\u001b[39;49m\u001b[43m(\u001b[49m\u001b[43mregistry\u001b[49m\u001b[43m,\u001b[49m\u001b[43m \u001b[49m\u001b[43mmethod_name\u001b[49m\u001b[43m)\u001b[49m\u001b[43m(\u001b[49m\u001b[38;5;241;43m*\u001b[39;49m\u001b[43margs\u001b[49m\u001b[43m,\u001b[49m\u001b[43m \u001b[49m\u001b[38;5;241;43m*\u001b[39;49m\u001b[38;5;241;43m*\u001b[39;49m\u001b[43mkwargs\u001b[49m\u001b[43m)\u001b[49m\n",
      "File \u001b[0;32m~/Library/Python/3.9/lib/python/site-packages/astropy/io/registry/core.py:221\u001b[0m, in \u001b[0;36mUnifiedInputRegistry.read\u001b[0;34m(self, cls, format, cache, *args, **kwargs)\u001b[0m\n\u001b[1;32m    218\u001b[0m         kwargs\u001b[38;5;241m.\u001b[39mupdate({\u001b[38;5;124m\"\u001b[39m\u001b[38;5;124mfilename\u001b[39m\u001b[38;5;124m\"\u001b[39m: path})\n\u001b[1;32m    220\u001b[0m reader \u001b[38;5;241m=\u001b[39m \u001b[38;5;28mself\u001b[39m\u001b[38;5;241m.\u001b[39mget_reader(\u001b[38;5;28mformat\u001b[39m, \u001b[38;5;28mcls\u001b[39m)\n\u001b[0;32m--> 221\u001b[0m data \u001b[38;5;241m=\u001b[39m \u001b[43mreader\u001b[49m\u001b[43m(\u001b[49m\u001b[38;5;241;43m*\u001b[39;49m\u001b[43margs\u001b[49m\u001b[43m,\u001b[49m\u001b[43m \u001b[49m\u001b[38;5;241;43m*\u001b[39;49m\u001b[38;5;241;43m*\u001b[39;49m\u001b[43mkwargs\u001b[49m\u001b[43m)\u001b[49m\n\u001b[1;32m    223\u001b[0m \u001b[38;5;28;01mif\u001b[39;00m \u001b[38;5;129;01mnot\u001b[39;00m \u001b[38;5;28misinstance\u001b[39m(data, \u001b[38;5;28mcls\u001b[39m):\n\u001b[1;32m    224\u001b[0m     \u001b[38;5;66;03m# User has read with a subclass where only the parent class is\u001b[39;00m\n\u001b[1;32m    225\u001b[0m     \u001b[38;5;66;03m# registered.  This returns the parent class, so try coercing\u001b[39;00m\n\u001b[1;32m    226\u001b[0m     \u001b[38;5;66;03m# to desired subclass.\u001b[39;00m\n\u001b[1;32m    227\u001b[0m     \u001b[38;5;28;01mtry\u001b[39;00m:\n",
      "File \u001b[0;32m~/Library/Python/3.9/lib/python/site-packages/spectral_cube/io/fits.py:211\u001b[0m, in \u001b[0;36mload_fits_cube\u001b[0;34m(input, hdu, meta, target_cls, use_dask, **kwargs)\u001b[0m\n\u001b[1;32m    207\u001b[0m \u001b[38;5;28;01mwith\u001b[39;00m warnings\u001b[38;5;241m.\u001b[39mcatch_warnings():\n\u001b[1;32m    208\u001b[0m     warnings\u001b[38;5;241m.\u001b[39mfilterwarnings(\u001b[38;5;124m'\u001b[39m\u001b[38;5;124mignore\u001b[39m\u001b[38;5;124m'\u001b[39m,\n\u001b[1;32m    209\u001b[0m                             category\u001b[38;5;241m=\u001b[39mastropy\u001b[38;5;241m.\u001b[39mwcs\u001b[38;5;241m.\u001b[39mFITSFixedWarning,\n\u001b[1;32m    210\u001b[0m                             append\u001b[38;5;241m=\u001b[39m\u001b[38;5;28;01mTrue\u001b[39;00m)\n\u001b[0;32m--> 211\u001b[0m     wcs \u001b[38;5;241m=\u001b[39m \u001b[43mWCS\u001b[49m\u001b[43m(\u001b[49m\u001b[43mheader\u001b[49m\u001b[43m)\u001b[49m\n\u001b[1;32m    213\u001b[0m \u001b[38;5;28;01mif\u001b[39;00m wcs\u001b[38;5;241m.\u001b[39mwcs\u001b[38;5;241m.\u001b[39mnaxis \u001b[38;5;241m==\u001b[39m \u001b[38;5;241m3\u001b[39m:\n\u001b[1;32m    215\u001b[0m     data, wcs \u001b[38;5;241m=\u001b[39m cube_utils\u001b[38;5;241m.\u001b[39m_orient(data, wcs)\n",
      "File \u001b[0;32m~/Library/Python/3.9/lib/python/site-packages/astropy/wcs/wcs.py:600\u001b[0m, in \u001b[0;36mWCS.__init__\u001b[0;34m(self, header, fobj, key, minerr, relax, naxis, keysel, colsel, fix, translate_units, _do_set)\u001b[0m\n\u001b[1;32m    597\u001b[0m         \u001b[38;5;28mself\u001b[39m\u001b[38;5;241m.\u001b[39mfix(translate_units\u001b[38;5;241m=\u001b[39mtranslate_units)\n\u001b[1;32m    599\u001b[0m \u001b[38;5;28;01mif\u001b[39;00m _do_set:\n\u001b[0;32m--> 600\u001b[0m     \u001b[38;5;28;43mself\u001b[39;49m\u001b[38;5;241;43m.\u001b[39;49m\u001b[43mwcs\u001b[49m\u001b[38;5;241;43m.\u001b[39;49m\u001b[43mset\u001b[49m\u001b[43m(\u001b[49m\u001b[43m)\u001b[49m\n\u001b[1;32m    602\u001b[0m \u001b[38;5;28;01mfor\u001b[39;00m fd \u001b[38;5;129;01min\u001b[39;00m close_fds:\n\u001b[1;32m    603\u001b[0m     fd\u001b[38;5;241m.\u001b[39mclose()\n",
      "\u001b[0;31mValueError\u001b[0m: ERROR 5 in wcsset() at line 2808 of file cextern/wcslib/C/wcs.c:\nInvalid parameter value.\nERROR 4 in linset() at line 737 of file cextern/wcslib/C/lin.c:\nFailed to initialize distortion functions.\nERROR 3 in dssset() at line 2716 of file cextern/wcslib/C/dis.c:\nCoefficient scale for DSS on axis 1 is zero..\n"
     ]
    }
   ],
   "source": [
    "#nvss works. would rather not. \n",
    "gaia_datafile = download_file('http://202.189.117.101:8999/gpne/download.php?p=f&f=2322/SHS/quot_HaSr_id2322_b1_wquot_HaSr.fits')\n",
    "\n",
    "hi_data = fits.open(gaia_datafile)  # Open the FITS file for reading\n",
    "cube = SpectralCube.read(hi_data)  # Initiate a SpectralCube\n",
    "hi_data.close()  # Close the FITS file - we already read it in and don't need it anymore!\n",
    "\n",
    "print(cube)\n",
    "\n",
    "cube[1, :, :].quicklook()\n",
    "\n",
    "\n",
    "\n"
   ]
  },
  {
   "cell_type": "code",
   "execution_count": 49,
   "metadata": {},
   "outputs": [
    {
     "name": "stdout",
     "output_type": "stream",
     "text": [
      "=====================================================\n",
      "StokesSpectralCube.write(format='fits') documentation\n",
      "=====================================================\n",
      "\n",
      "Write a FITS cube with a WCS to a filename"
     ]
    }
   ],
   "source": [
    "StokesSpectralCube.write.help('fits')"
   ]
  },
  {
   "cell_type": "code",
   "execution_count": null,
   "metadata": {},
   "outputs": [],
   "source": []
  }
 ],
 "metadata": {
  "kernelspec": {
   "display_name": "Python 3",
   "language": "python",
   "name": "python3"
  },
  "language_info": {
   "codemirror_mode": {
    "name": "ipython",
    "version": 3
   },
   "file_extension": ".py",
   "mimetype": "text/x-python",
   "name": "python",
   "nbconvert_exporter": "python",
   "pygments_lexer": "ipython3",
   "version": "3.9.6"
  }
 },
 "nbformat": 4,
 "nbformat_minor": 2
}
