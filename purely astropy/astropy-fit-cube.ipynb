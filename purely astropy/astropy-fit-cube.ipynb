{
 "cells": [
  {
   "cell_type": "code",
   "execution_count": 11,
   "metadata": {},
   "outputs": [],
   "source": [
    "import numpy as np\n",
    "import matplotlib.pyplot as plt\n",
    "from matplotlib.colors import LogNorm\n",
    "\n",
    "import astropy.units as u\n",
    "from astropy.utils.data import download_file\n",
    "from astropy.io import fits  # We use fits to open the actual data file\n",
    "\n",
    "from astropy.utils import data\n",
    "data.conf.remote_timeout = 60\n",
    "\n",
    "from spectral_cube import SpectralCube\n",
    "\n",
    "from astroquery.esasky import ESASky\n",
    "from astroquery.utils import TableList\n",
    "from astropy.wcs import WCS\n",
    "from reproject import reproject_interp"
   ]
  },
  {
   "cell_type": "code",
   "execution_count": 14,
   "metadata": {},
   "outputs": [
    {
     "name": "stderr",
     "output_type": "stream",
     "text": [
      "WARNING: VerifyWarning: Verification reported errors: [astropy.io.fits.verify]\n",
      "WARNING: VerifyWarning: Card 'ESO INS IMAGE DISTOR1' is not FITS standard (invalid value string: '5.367470e-04 / distortion coefficient').  Fixed 'ESO INS IMAGE DISTOR1' card to meet the FITS standard. [astropy.io.fits.verify]\n",
      "WARNING: VerifyWarning: Note: astropy.io.fits uses zero-based indexing.\n",
      " [astropy.io.fits.verify]\n",
      "WARNING: VerifyWarning: Card 'ESO INS IMAGE DISTOR2' is not FITS standard (invalid value string: '-2.157780e-06 / distortion coefficient').  Fixed 'ESO INS IMAGE DISTOR2' card to meet the FITS standard. [astropy.io.fits.verify]\n",
      "WARNING: VerifyWarning: Card 'ESO INS IMAGE DISTOR3' is not FITS standard (invalid value string: '2.113310e-09 / distortion coefficient').  Fixed 'ESO INS IMAGE DISTOR3' card to meet the FITS standard. [astropy.io.fits.verify]\n",
      "WARNING: VerifyWarning: Card 'ESO INS MOS1 POS' is not FITS standard (invalid value string: '1.006250e-04 / Position of the slit in mm.').  Fixed 'ESO INS MOS1 POS' card to meet the FITS standard. [astropy.io.fits.verify]\n",
      "WARNING: VerifyWarning: Card 'ESO INS MOS2 POS' is not FITS standard (invalid value string: '3.610070e-04 / Position of the slit in mm.').  Fixed 'ESO INS MOS2 POS' card to meet the FITS standard. [astropy.io.fits.verify]\n",
      "WARNING: VerifyWarning: Card 'ESO INS MOS3 POS' is not FITS standard (invalid value string: '2.740420e-04 / Position of the slit in mm.').  Fixed 'ESO INS MOS3 POS' card to meet the FITS standard. [astropy.io.fits.verify]\n",
      "WARNING: VerifyWarning: Card 'ESO INS MOS4 POS' is not FITS standard (invalid value string: '-1.745745e-04 / Position of the slit in mm.').  Fixed 'ESO INS MOS4 POS' card to meet the FITS standard. [astropy.io.fits.verify]\n",
      "WARNING: VerifyWarning: Card 'ESO INS MOS5 POS' is not FITS standard (invalid value string: '-2.699750e-04 / Position of the slit in mm.').  Fixed 'ESO INS MOS5 POS' card to meet the FITS standard. [astropy.io.fits.verify]\n",
      "WARNING: VerifyWarning: Card 'ESO INS MOS6 POS' is not FITS standard (invalid value string: '-2.058790e-04 / Position of the slit in mm.').  Fixed 'ESO INS MOS6 POS' card to meet the FITS standard. [astropy.io.fits.verify]\n",
      "WARNING: VerifyWarning: Card 'ESO INS MOS7 POS' is not FITS standard (invalid value string: '2.420020e-04 / Position of the slit in mm.').  Fixed 'ESO INS MOS7 POS' card to meet the FITS standard. [astropy.io.fits.verify]\n",
      "WARNING: VerifyWarning: Card 'ESO INS MOS8 POS' is not FITS standard (invalid value string: '-8.751600e-05 / Position of the slit in mm.').  Fixed 'ESO INS MOS8 POS' card to meet the FITS standard. [astropy.io.fits.verify]\n",
      "WARNING: VerifyWarning: Card 'ESO INS MOS9 POS' is not FITS standard (invalid value string: '-1.210080e-04 / Position of the slit in mm.').  Fixed 'ESO INS MOS9 POS' card to meet the FITS standard. [astropy.io.fits.verify]\n",
      "WARNING: VerifyWarning: Card 'ESO INS MOS10 POS' is not FITS standard (invalid value string: '1.601600e-05 / Position of the slit in mm.').  Fixed 'ESO INS MOS10 POS' card to meet the FITS standard. [astropy.io.fits.verify]\n",
      "WARNING: VerifyWarning: Card 'ESO INS MOS11 POS' is not FITS standard (invalid value string: '6.720300e-05 / Position of the slit in mm.').  Fixed 'ESO INS MOS11 POS' card to meet the FITS standard. [astropy.io.fits.verify]\n",
      "WARNING: VerifyWarning: Card 'ESO INS MOS12 POS' is not FITS standard (invalid value string: '-1.128780e-04 / Position of the slit in mm.').  Fixed 'ESO INS MOS12 POS' card to meet the FITS standard. [astropy.io.fits.verify]\n",
      "WARNING: VerifyWarning: Card 'ESO INS MOS13 POS' is not FITS standard (invalid value string: '-8.289500e-05 / Position of the slit in mm.').  Fixed 'ESO INS MOS13 POS' card to meet the FITS standard. [astropy.io.fits.verify]\n",
      "WARNING: VerifyWarning: Card 'ESO INS MOS14 POS' is not FITS standard (invalid value string: '-6.679700e-05 / Position of the slit in mm.').  Fixed 'ESO INS MOS14 POS' card to meet the FITS standard. [astropy.io.fits.verify]\n",
      "WARNING: VerifyWarning: Card 'ESO INS MOS15 POS' is not FITS standard (invalid value string: '-1.112160e-04 / Position of the slit in mm.').  Fixed 'ESO INS MOS15 POS' card to meet the FITS standard. [astropy.io.fits.verify]\n",
      "WARNING: VerifyWarning: Card 'ESO INS MOS16 POS' is not FITS standard (invalid value string: '-9.434400e-05 / Position of the slit in mm.').  Fixed 'ESO INS MOS16 POS' card to meet the FITS standard. [astropy.io.fits.verify]\n",
      "WARNING: VerifyWarning: Card 'ESO INS MOS17 POS' is not FITS standard (invalid value string: '9.903900e-05 / Position of the slit in mm.').  Fixed 'ESO INS MOS17 POS' card to meet the FITS standard. [astropy.io.fits.verify]\n",
      "WARNING: VerifyWarning: Card 'ESO INS MOS18 POS' is not FITS standard (invalid value string: '5.529750e-05 / Position of the slit in mm.').  Fixed 'ESO INS MOS18 POS' card to meet the FITS standard. [astropy.io.fits.verify]\n",
      "WARNING: VerifyWarning: Card 'ESO INS MOS19 POS' is not FITS standard (invalid value string: '3.570135e-04 / Position of the slit in mm.').  Fixed 'ESO INS MOS19 POS' card to meet the FITS standard. [astropy.io.fits.verify]\n",
      "WARNING: VerifyWarning: Card 'ESO INS MOS1 WIDTH' is not FITS standard (invalid value string: '2.459998e+02 / Width of the MOS slit in mm.').  Fixed 'ESO INS MOS1 WIDTH' card to meet the FITS standard. [astropy.io.fits.verify]\n",
      "WARNING: VerifyWarning: Card 'ESO INS MOS2 WIDTH' is not FITS standard (invalid value string: '2.459993e+02 / Width of the MOS slit in mm.').  Fixed 'ESO INS MOS2 WIDTH' card to meet the FITS standard. [astropy.io.fits.verify]\n",
      "WARNING: VerifyWarning: Card 'ESO INS MOS3 WIDTH' is not FITS standard (invalid value string: '2.459995e+02 / Width of the MOS slit in mm.').  Fixed 'ESO INS MOS3 WIDTH' card to meet the FITS standard. [astropy.io.fits.verify]\n",
      "WARNING: VerifyWarning: Card 'ESO INS MOS4 WIDTH' is not FITS standard (invalid value string: '2.459993e+02 / Width of the MOS slit in mm.').  Fixed 'ESO INS MOS4 WIDTH' card to meet the FITS standard. [astropy.io.fits.verify]\n",
      "WARNING: VerifyWarning: Card 'ESO INS MOS5 WIDTH' is not FITS standard (invalid value string: '2.459995e+02 / Width of the MOS slit in mm.').  Fixed 'ESO INS MOS5 WIDTH' card to meet the FITS standard. [astropy.io.fits.verify]\n",
      "WARNING: VerifyWarning: Card 'ESO INS MOS6 WIDTH' is not FITS standard (invalid value string: '2.459994e+02 / Width of the MOS slit in mm.').  Fixed 'ESO INS MOS6 WIDTH' card to meet the FITS standard. [astropy.io.fits.verify]\n",
      "WARNING: VerifyWarning: Card 'ESO INS MOS7 WIDTH' is not FITS standard (invalid value string: '2.459995e+02 / Width of the MOS slit in mm.').  Fixed 'ESO INS MOS7 WIDTH' card to meet the FITS standard. [astropy.io.fits.verify]\n",
      "WARNING: VerifyWarning: Card 'ESO INS MOS8 WIDTH' is not FITS standard (invalid value string: '2.460002e+02 / Width of the MOS slit in mm.').  Fixed 'ESO INS MOS8 WIDTH' card to meet the FITS standard. [astropy.io.fits.verify]\n",
      "WARNING: VerifyWarning: Card 'ESO INS MOS9 WIDTH' is not FITS standard (invalid value string: '2.460002e+02 / Width of the MOS slit in mm.').  Fixed 'ESO INS MOS9 WIDTH' card to meet the FITS standard. [astropy.io.fits.verify]\n",
      "WARNING: VerifyWarning: Card 'ESO INS MOS10 WIDTH' is not FITS standard (invalid value string: '2.460000e+02 / Width of the MOS slit in mm.').  Fixed 'ESO INS MOS10 WIDTH' card to meet the FITS standard. [astropy.io.fits.verify]\n",
      "WARNING: VerifyWarning: Card 'ESO INS MOS11 WIDTH' is not FITS standard (invalid value string: '2.459999e+02 / Width of the MOS slit in mm.').  Fixed 'ESO INS MOS11 WIDTH' card to meet the FITS standard. [astropy.io.fits.verify]\n",
      "WARNING: VerifyWarning: Card 'ESO INS MOS12 WIDTH' is not FITS standard (invalid value string: '2.460002e+02 / Width of the MOS slit in mm.').  Fixed 'ESO INS MOS12 WIDTH' card to meet the FITS standard. [astropy.io.fits.verify]\n",
      "WARNING: VerifyWarning: Card 'ESO INS MOS13 WIDTH' is not FITS standard (invalid value string: '2.460002e+02 / Width of the MOS slit in mm.').  Fixed 'ESO INS MOS13 WIDTH' card to meet the FITS standard. [astropy.io.fits.verify]\n",
      "WARNING: VerifyWarning: Card 'ESO INS MOS14 WIDTH' is not FITS standard (invalid value string: '2.460001e+02 / Width of the MOS slit in mm.').  Fixed 'ESO INS MOS14 WIDTH' card to meet the FITS standard. [astropy.io.fits.verify]\n",
      "WARNING: VerifyWarning: Card 'ESO INS MOS15 WIDTH' is not FITS standard (invalid value string: '2.460002e+02 / Width of the MOS slit in mm.').  Fixed 'ESO INS MOS15 WIDTH' card to meet the FITS standard. [astropy.io.fits.verify]\n",
      "WARNING: VerifyWarning: Card 'ESO INS MOS16 WIDTH' is not FITS standard (invalid value string: '2.460002e+02 / Width of the MOS slit in mm.').  Fixed 'ESO INS MOS16 WIDTH' card to meet the FITS standard. [astropy.io.fits.verify]\n",
      "WARNING: VerifyWarning: Card 'ESO INS MOS17 WIDTH' is not FITS standard (invalid value string: '2.459998e+02 / Width of the MOS slit in mm.').  Fixed 'ESO INS MOS17 WIDTH' card to meet the FITS standard. [astropy.io.fits.verify]\n",
      "WARNING: VerifyWarning: Card 'ESO INS MOS18 WIDTH' is not FITS standard (invalid value string: '2.459999e+02 / Width of the MOS slit in mm.').  Fixed 'ESO INS MOS18 WIDTH' card to meet the FITS standard. [astropy.io.fits.verify]\n",
      "WARNING: VerifyWarning: Card 'ESO INS MOS19 WIDTH' is not FITS standard (invalid value string: '2.459993e+02 / Width of the MOS slit in mm.').  Fixed 'ESO INS MOS19 WIDTH' card to meet the FITS standard. [astropy.io.fits.verify]\n",
      "WARNING: VerifyWarning: Card 'ESO INS SHUT EXPTIME' is not FITS standard (invalid value string: '2.399897e+02 / Real exposure time in sec.').  Fixed 'ESO INS SHUT EXPTIME' card to meet the FITS standard. [astropy.io.fits.verify]\n"
     ]
    },
    {
     "ename": "FITSReadError",
     "evalue": "Data should be 3- or 4-dimensional",
     "output_type": "error",
     "traceback": [
      "\u001b[0;31m---------------------------------------------------------------------------\u001b[0m",
      "\u001b[0;31mFITSReadError\u001b[0m                             Traceback (most recent call last)",
      "Cell \u001b[0;32mIn[14], line 3\u001b[0m\n\u001b[1;32m      1\u001b[0m gaia_datafile \u001b[38;5;241m=\u001b[39m download_file(\u001b[38;5;124m'\u001b[39m\u001b[38;5;124mhttp://202.189.117.101:8999/gpne/download.php?p=f&f=2322/POPIPLAN_ESO/popiplan_eso_FORS2.2012-03-23T09_05_41.082_H_Alpha_id2322_b1_wha.fits\u001b[39m\u001b[38;5;124m'\u001b[39m, cache\u001b[38;5;241m=\u001b[39m\u001b[38;5;28;01mTrue\u001b[39;00m, show_progress\u001b[38;5;241m=\u001b[39m\u001b[38;5;28;01mTrue\u001b[39;00m)\n\u001b[1;32m      2\u001b[0m gaia_data \u001b[38;5;241m=\u001b[39m fits\u001b[38;5;241m.\u001b[39mopen(gaia_datafile)  \u001b[38;5;66;03m# Open the FITS file for reading\u001b[39;00m\n\u001b[0;32m----> 3\u001b[0m cube \u001b[38;5;241m=\u001b[39m \u001b[43mSpectralCube\u001b[49m\u001b[38;5;241;43m.\u001b[39;49m\u001b[43mread\u001b[49m\u001b[43m(\u001b[49m\u001b[43mgaia_data\u001b[49m\u001b[43m)\u001b[49m  \u001b[38;5;66;03m# Initiate a SpectralCube\u001b[39;00m\n\u001b[1;32m      4\u001b[0m gaia_data\u001b[38;5;241m.\u001b[39mclose()  \u001b[38;5;66;03m# Close the FITS file - we already read it in and don't need it anymore!\u001b[39;00m\n\u001b[1;32m      6\u001b[0m \u001b[38;5;28mprint\u001b[39m(gaia_data)\n",
      "File \u001b[0;32m~/Library/Python/3.9/lib/python/site-packages/spectral_cube/io/core.py:118\u001b[0m, in \u001b[0;36mSpectralCubeRead.__call__\u001b[0;34m(self, filename, *args, **kwargs)\u001b[0m\n\u001b[1;32m    116\u001b[0m kwargs[\u001b[38;5;124m'\u001b[39m\u001b[38;5;124mtarget_cls\u001b[39m\u001b[38;5;124m'\u001b[39m] \u001b[38;5;241m=\u001b[39m BaseSpectralCube\n\u001b[1;32m    117\u001b[0m \u001b[38;5;28;01mtry\u001b[39;00m:\n\u001b[0;32m--> 118\u001b[0m     \u001b[38;5;28;01mreturn\u001b[39;00m \u001b[43mregistry\u001b[49m\u001b[38;5;241;43m.\u001b[39;49m\u001b[43mread\u001b[49m\u001b[43m(\u001b[49m\u001b[43mBaseSpectralCube\u001b[49m\u001b[43m,\u001b[49m\u001b[43m \u001b[49m\u001b[43mfilename\u001b[49m\u001b[43m,\u001b[49m\u001b[43m \u001b[49m\u001b[38;5;241;43m*\u001b[39;49m\u001b[43margs\u001b[49m\u001b[43m,\u001b[49m\u001b[43m \u001b[49m\u001b[38;5;241;43m*\u001b[39;49m\u001b[38;5;241;43m*\u001b[39;49m\u001b[43mkwargs\u001b[49m\u001b[43m)\u001b[49m\n\u001b[1;32m    119\u001b[0m \u001b[38;5;28;01mexcept\u001b[39;00m \u001b[38;5;167;01mIsADirectoryError\u001b[39;00m:  \u001b[38;5;66;03m# See note above StringWrapper\u001b[39;00m\n\u001b[1;32m    120\u001b[0m     \u001b[38;5;28;01mreturn\u001b[39;00m registry\u001b[38;5;241m.\u001b[39mread(BaseSpectralCube, StringWrapper(filename), \u001b[38;5;241m*\u001b[39margs, \u001b[38;5;241m*\u001b[39m\u001b[38;5;241m*\u001b[39mkwargs)\n",
      "File \u001b[0;32m~/Library/Python/3.9/lib/python/site-packages/astropy/io/registry/compat.py:52\u001b[0m, in \u001b[0;36m_make_io_func.<locals>.wrapper\u001b[0;34m(registry, *args, **kwargs)\u001b[0m\n\u001b[1;32m     50\u001b[0m     registry \u001b[38;5;241m=\u001b[39m default_registry\n\u001b[1;32m     51\u001b[0m \u001b[38;5;66;03m# get and call bound method from registry instance\u001b[39;00m\n\u001b[0;32m---> 52\u001b[0m \u001b[38;5;28;01mreturn\u001b[39;00m \u001b[38;5;28;43mgetattr\u001b[39;49m\u001b[43m(\u001b[49m\u001b[43mregistry\u001b[49m\u001b[43m,\u001b[49m\u001b[43m \u001b[49m\u001b[43mmethod_name\u001b[49m\u001b[43m)\u001b[49m\u001b[43m(\u001b[49m\u001b[38;5;241;43m*\u001b[39;49m\u001b[43margs\u001b[49m\u001b[43m,\u001b[49m\u001b[43m \u001b[49m\u001b[38;5;241;43m*\u001b[39;49m\u001b[38;5;241;43m*\u001b[39;49m\u001b[43mkwargs\u001b[49m\u001b[43m)\u001b[49m\n",
      "File \u001b[0;32m~/Library/Python/3.9/lib/python/site-packages/astropy/io/registry/core.py:221\u001b[0m, in \u001b[0;36mUnifiedInputRegistry.read\u001b[0;34m(self, cls, format, cache, *args, **kwargs)\u001b[0m\n\u001b[1;32m    218\u001b[0m         kwargs\u001b[38;5;241m.\u001b[39mupdate({\u001b[38;5;124m\"\u001b[39m\u001b[38;5;124mfilename\u001b[39m\u001b[38;5;124m\"\u001b[39m: path})\n\u001b[1;32m    220\u001b[0m reader \u001b[38;5;241m=\u001b[39m \u001b[38;5;28mself\u001b[39m\u001b[38;5;241m.\u001b[39mget_reader(\u001b[38;5;28mformat\u001b[39m, \u001b[38;5;28mcls\u001b[39m)\n\u001b[0;32m--> 221\u001b[0m data \u001b[38;5;241m=\u001b[39m \u001b[43mreader\u001b[49m\u001b[43m(\u001b[49m\u001b[38;5;241;43m*\u001b[39;49m\u001b[43margs\u001b[49m\u001b[43m,\u001b[49m\u001b[43m \u001b[49m\u001b[38;5;241;43m*\u001b[39;49m\u001b[38;5;241;43m*\u001b[39;49m\u001b[43mkwargs\u001b[49m\u001b[43m)\u001b[49m\n\u001b[1;32m    223\u001b[0m \u001b[38;5;28;01mif\u001b[39;00m \u001b[38;5;129;01mnot\u001b[39;00m \u001b[38;5;28misinstance\u001b[39m(data, \u001b[38;5;28mcls\u001b[39m):\n\u001b[1;32m    224\u001b[0m     \u001b[38;5;66;03m# User has read with a subclass where only the parent class is\u001b[39;00m\n\u001b[1;32m    225\u001b[0m     \u001b[38;5;66;03m# registered.  This returns the parent class, so try coercing\u001b[39;00m\n\u001b[1;32m    226\u001b[0m     \u001b[38;5;66;03m# to desired subclass.\u001b[39;00m\n\u001b[1;32m    227\u001b[0m     \u001b[38;5;28;01mtry\u001b[39;00m:\n",
      "File \u001b[0;32m~/Library/Python/3.9/lib/python/site-packages/spectral_cube/io/fits.py:260\u001b[0m, in \u001b[0;36mload_fits_cube\u001b[0;34m(input, hdu, meta, target_cls, use_dask, **kwargs)\u001b[0m\n\u001b[1;32m    256\u001b[0m     cube \u001b[38;5;241m=\u001b[39m StokesSpectralCube(stokes_data)\n\u001b[1;32m    258\u001b[0m \u001b[38;5;28;01melse\u001b[39;00m:\n\u001b[0;32m--> 260\u001b[0m     \u001b[38;5;28;01mraise\u001b[39;00m FITSReadError(\u001b[38;5;124m\"\u001b[39m\u001b[38;5;124mData should be 3- or 4-dimensional\u001b[39m\u001b[38;5;124m\"\u001b[39m)\n\u001b[1;32m    262\u001b[0m \u001b[38;5;28;01mfrom\u001b[39;00m \u001b[38;5;21;01m.\u001b[39;00m\u001b[38;5;21;01mcore\u001b[39;00m \u001b[38;5;28;01mimport\u001b[39;00m normalize_cube_stokes\n\u001b[1;32m    263\u001b[0m \u001b[38;5;28;01mreturn\u001b[39;00m normalize_cube_stokes(cube, target_cls\u001b[38;5;241m=\u001b[39mtarget_cls)\n",
      "\u001b[0;31mFITSReadError\u001b[0m: Data should be 3- or 4-dimensional"
     ]
    }
   ],
   "source": [
    "gaia_datafile = fits.open('SCIENCE_He2-76_dbs00318b_otzxfif-sky.fits')\n",
    "gaia_data = fits.open(gaia_datafile)  # Open the FITS file for reading\n",
    "cube = SpectralCube.read(gaia_data)  # Initiate a SpectralCube\n",
    "gaia_data.close()  # Close the FITS file - we already read it in and don't need it anymore!\n",
    "\n",
    "print(gaia_data)"
   ]
  },
  {
   "cell_type": "code",
   "execution_count": null,
   "metadata": {},
   "outputs": [],
   "source": []
  }
 ],
 "metadata": {
  "kernelspec": {
   "display_name": "Python 3",
   "language": "python",
   "name": "python3"
  },
  "language_info": {
   "codemirror_mode": {
    "name": "ipython",
    "version": 3
   },
   "file_extension": ".py",
   "mimetype": "text/x-python",
   "name": "python",
   "nbconvert_exporter": "python",
   "pygments_lexer": "ipython3",
   "version": "3.9.6"
  }
 },
 "nbformat": 4,
 "nbformat_minor": 2
}
