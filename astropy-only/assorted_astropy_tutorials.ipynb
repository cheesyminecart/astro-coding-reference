{
 "cells": [
  {
   "cell_type": "markdown",
   "metadata": {},
   "source": [
    "# Astropy.Units - Tutorial 1\n",
    "Let's take a look at our first module! This imports the base constants we need for everything. "
   ]
  },
  {
   "cell_type": "code",
   "execution_count": 6,
   "metadata": {},
   "outputs": [
    {
     "name": "stdout",
     "output_type": "stream",
     "text": [
      "  Name   = Gravitational constant\n",
      "  Value  = 6.6743e-11\n",
      "  Uncertainty  = 1.5e-15\n",
      "  Unit  = m3 / (kg s2)\n",
      "  Reference = CODATA 2018\n"
     ]
    }
   ],
   "source": [
    "from astropy import constants as const \n",
    "print(const.G) \n"
   ]
  },
  {
   "cell_type": "markdown",
   "metadata": {},
   "source": [
    "Let's try converting some constants into different units! "
   ]
  },
  {
   "cell_type": "code",
   "execution_count": 13,
   "metadata": {},
   "outputs": [
    {
     "ename": "ValueError",
     "evalue": "'ly/s' did not parse as unit: At col 0, ly is not a valid unit. Did you mean lyr? If this is meant to be a custom unit, define it with 'u.def_unit'. To have it recognized inside a file reader or other code, enable it with 'u.add_enabled_units'. For details, see https://docs.astropy.org/en/latest/units/combining_and_defining.html",
     "output_type": "error",
     "traceback": [
      "\u001b[0;31m---------------------------------------------------------------------------\u001b[0m",
      "\u001b[0;31mValueError\u001b[0m                                Traceback (most recent call last)",
      "File \u001b[0;32m/opt/homebrew/lib/python3.11/site-packages/astropy/units/format/generic.py:587\u001b[0m, in \u001b[0;36mGeneric._do_parse\u001b[0;34m(cls, s, debug)\u001b[0m\n\u001b[1;32m    584\u001b[0m \u001b[39mtry\u001b[39;00m:\n\u001b[1;32m    585\u001b[0m     \u001b[39m# This is a short circuit for the case where the string\u001b[39;00m\n\u001b[1;32m    586\u001b[0m     \u001b[39m# is just a single unit name\u001b[39;00m\n\u001b[0;32m--> 587\u001b[0m     \u001b[39mreturn\u001b[39;00m \u001b[39mcls\u001b[39;49m\u001b[39m.\u001b[39;49m_parse_unit(s, detailed_exception\u001b[39m=\u001b[39;49m\u001b[39mFalse\u001b[39;49;00m)\n\u001b[1;32m    588\u001b[0m \u001b[39mexcept\u001b[39;00m \u001b[39mValueError\u001b[39;00m \u001b[39mas\u001b[39;00m e:\n",
      "File \u001b[0;32m/opt/homebrew/lib/python3.11/site-packages/astropy/units/format/generic.py:483\u001b[0m, in \u001b[0;36mGeneric._parse_unit\u001b[0;34m(cls, s, detailed_exception)\u001b[0m\n\u001b[1;32m    482\u001b[0m \u001b[39melse\u001b[39;00m:\n\u001b[0;32m--> 483\u001b[0m     \u001b[39mraise\u001b[39;00m \u001b[39mValueError\u001b[39;00m()\n",
      "\u001b[0;31mValueError\u001b[0m: ",
      "\nDuring handling of the above exception, another exception occurred:\n",
      "\u001b[0;31mValueError\u001b[0m                                Traceback (most recent call last)",
      "File \u001b[0;32m/opt/homebrew/lib/python3.11/site-packages/astropy/units/format/generic.py:453\u001b[0m, in \u001b[0;36mGeneric._get_unit\u001b[0;34m(cls, t)\u001b[0m\n\u001b[1;32m    452\u001b[0m \u001b[39mtry\u001b[39;00m:\n\u001b[0;32m--> 453\u001b[0m     \u001b[39mreturn\u001b[39;00m \u001b[39mcls\u001b[39;49m\u001b[39m.\u001b[39;49m_parse_unit(t\u001b[39m.\u001b[39;49mvalue)\n\u001b[1;32m    454\u001b[0m \u001b[39mexcept\u001b[39;00m \u001b[39mValueError\u001b[39;00m \u001b[39mas\u001b[39;00m e:\n",
      "File \u001b[0;32m/opt/homebrew/lib/python3.11/site-packages/astropy/units/format/generic.py:481\u001b[0m, in \u001b[0;36mGeneric._parse_unit\u001b[0;34m(cls, s, detailed_exception)\u001b[0m\n\u001b[1;32m    480\u001b[0m \u001b[39mif\u001b[39;00m detailed_exception:\n\u001b[0;32m--> 481\u001b[0m     \u001b[39mraise\u001b[39;00m \u001b[39mValueError\u001b[39;00m(\u001b[39mf\u001b[39m\u001b[39m\"\u001b[39m\u001b[39m{\u001b[39;00ms\u001b[39m}\u001b[39;00m\u001b[39m is not a valid unit. \u001b[39m\u001b[39m{\u001b[39;00mdid_you_mean(s,\u001b[39m \u001b[39mregistry)\u001b[39m}\u001b[39;00m\u001b[39m\"\u001b[39m)\n\u001b[1;32m    482\u001b[0m \u001b[39melse\u001b[39;00m:\n",
      "\u001b[0;31mValueError\u001b[0m: ly is not a valid unit. Did you mean lyr?",
      "\nDuring handling of the above exception, another exception occurred:\n",
      "\u001b[0;31mValueError\u001b[0m                                Traceback (most recent call last)",
      "File \u001b[0;32m/opt/homebrew/lib/python3.11/site-packages/astropy/units/core.py:2098\u001b[0m, in \u001b[0;36m_UnitMetaClass.__call__\u001b[0;34m(self, s, represents, format, namespace, doc, parse_strict)\u001b[0m\n\u001b[1;32m   2097\u001b[0m \u001b[39mtry\u001b[39;00m:\n\u001b[0;32m-> 2098\u001b[0m     \u001b[39mreturn\u001b[39;00m f\u001b[39m.\u001b[39;49mparse(s)\n\u001b[1;32m   2099\u001b[0m \u001b[39mexcept\u001b[39;00m \u001b[39mNotImplementedError\u001b[39;00m:\n",
      "File \u001b[0;32m/opt/homebrew/lib/python3.11/site-packages/astropy/units/format/generic.py:571\u001b[0m, in \u001b[0;36mGeneric.parse\u001b[0;34m(cls, s, debug)\u001b[0m\n\u001b[1;32m    569\u001b[0m     s \u001b[39m=\u001b[39m \u001b[39mcls\u001b[39m\u001b[39m.\u001b[39m_regex_deg\u001b[39m.\u001b[39msub(\u001b[39mcls\u001b[39m\u001b[39m.\u001b[39m_convert_deg, s)\n\u001b[0;32m--> 571\u001b[0m result \u001b[39m=\u001b[39m \u001b[39mcls\u001b[39;49m\u001b[39m.\u001b[39;49m_do_parse(s, debug\u001b[39m=\u001b[39;49mdebug)\n\u001b[1;32m    572\u001b[0m \u001b[39m# Check for excess solidi, but exclude fractional exponents (accepted)\u001b[39;00m\n",
      "File \u001b[0;32m/opt/homebrew/lib/python3.11/site-packages/astropy/units/format/generic.py:590\u001b[0m, in \u001b[0;36mGeneric._do_parse\u001b[0;34m(cls, s, debug)\u001b[0m\n\u001b[1;32m    589\u001b[0m \u001b[39mtry\u001b[39;00m:\n\u001b[0;32m--> 590\u001b[0m     \u001b[39mreturn\u001b[39;00m \u001b[39mcls\u001b[39;49m\u001b[39m.\u001b[39;49m_parser\u001b[39m.\u001b[39;49mparse(s, lexer\u001b[39m=\u001b[39;49m\u001b[39mcls\u001b[39;49m\u001b[39m.\u001b[39;49m_lexer, debug\u001b[39m=\u001b[39;49mdebug)\n\u001b[1;32m    591\u001b[0m \u001b[39mexcept\u001b[39;00m \u001b[39mValueError\u001b[39;00m \u001b[39mas\u001b[39;00m e:\n",
      "File \u001b[0;32m/opt/homebrew/lib/python3.11/site-packages/astropy/utils/parsing.py:116\u001b[0m, in \u001b[0;36mThreadSafeParser.parse\u001b[0;34m(self, *args, **kwargs)\u001b[0m\n\u001b[1;32m    115\u001b[0m \u001b[39mwith\u001b[39;00m \u001b[39mself\u001b[39m\u001b[39m.\u001b[39m_lock:\n\u001b[0;32m--> 116\u001b[0m     \u001b[39mreturn\u001b[39;00m \u001b[39mself\u001b[39;49m\u001b[39m.\u001b[39;49mparser\u001b[39m.\u001b[39;49mparse(\u001b[39m*\u001b[39;49margs, \u001b[39m*\u001b[39;49m\u001b[39m*\u001b[39;49mkwargs)\n",
      "File \u001b[0;32m/opt/homebrew/lib/python3.11/site-packages/astropy/extern/ply/yacc.py:333\u001b[0m, in \u001b[0;36mLRParser.parse\u001b[0;34m(self, input, lexer, debug, tracking, tokenfunc)\u001b[0m\n\u001b[1;32m    332\u001b[0m \u001b[39melse\u001b[39;00m:\n\u001b[0;32m--> 333\u001b[0m     \u001b[39mreturn\u001b[39;00m \u001b[39mself\u001b[39;49m\u001b[39m.\u001b[39;49mparseopt_notrack(\u001b[39minput\u001b[39;49m, lexer, debug, tracking, tokenfunc)\n",
      "File \u001b[0;32m/opt/homebrew/lib/python3.11/site-packages/astropy/extern/ply/yacc.py:1063\u001b[0m, in \u001b[0;36mLRParser.parseopt_notrack\u001b[0;34m(self, input, lexer, debug, tracking, tokenfunc)\u001b[0m\n\u001b[1;32m   1062\u001b[0m \u001b[39mif\u001b[39;00m \u001b[39mnot\u001b[39;00m lookaheadstack:\n\u001b[0;32m-> 1063\u001b[0m     lookahead \u001b[39m=\u001b[39m get_token()     \u001b[39m# Get the next token\u001b[39;00m\n\u001b[1;32m   1064\u001b[0m \u001b[39melse\u001b[39;00m:\n",
      "File \u001b[0;32m/opt/homebrew/lib/python3.11/site-packages/astropy/extern/ply/lex.py:350\u001b[0m, in \u001b[0;36mLexer.token\u001b[0;34m(self)\u001b[0m\n\u001b[1;32m    348\u001b[0m \u001b[39mself\u001b[39m\u001b[39m.\u001b[39mlexpos \u001b[39m=\u001b[39m lexpos\n\u001b[0;32m--> 350\u001b[0m newtok \u001b[39m=\u001b[39m func(tok)\n\u001b[1;32m    352\u001b[0m \u001b[39m# Every function must return a token, if nothing, we just move to next token\u001b[39;00m\n",
      "File \u001b[0;32m/opt/homebrew/lib/python3.11/site-packages/astropy/units/format/generic.py:123\u001b[0m, in \u001b[0;36mGeneric._make_lexer.<locals>.t_UNIT\u001b[0;34m(t)\u001b[0m\n\u001b[1;32m    122\u001b[0m \u001b[39m\"\u001b[39m\u001b[39m%\u001b[39m\u001b[39m|([YZEPTGMkhdcmu\u001b[39m\u001b[39m\\N{MICRO SIGN}\u001b[39;00m\u001b[39mnpfazy]?\u001b[39m\u001b[39m'\u001b[39m\u001b[39m((?!\u001b[39m\u001b[39m\\\\\u001b[39;00m\u001b[39md)\u001b[39m\u001b[39m\\\\\u001b[39;00m\u001b[39mw)+\u001b[39m\u001b[39m'\u001b[39m\u001b[39m)|((?!\u001b[39m\u001b[39m\\\\\u001b[39;00m\u001b[39md)\u001b[39m\u001b[39m\\\\\u001b[39;00m\u001b[39mw)+\u001b[39m\u001b[39m\"\u001b[39m\n\u001b[0;32m--> 123\u001b[0m t\u001b[39m.\u001b[39mvalue \u001b[39m=\u001b[39m \u001b[39mcls\u001b[39;49m\u001b[39m.\u001b[39;49m_get_unit(t)\n\u001b[1;32m    124\u001b[0m \u001b[39mreturn\u001b[39;00m t\n",
      "File \u001b[0;32m/opt/homebrew/lib/python3.11/site-packages/astropy/units/format/generic.py:459\u001b[0m, in \u001b[0;36mGeneric._get_unit\u001b[0;34m(cls, t)\u001b[0m\n\u001b[1;32m    457\u001b[0m     \u001b[39mreturn\u001b[39;00m registry\u001b[39m.\u001b[39maliases[t\u001b[39m.\u001b[39mvalue]\n\u001b[0;32m--> 459\u001b[0m \u001b[39mraise\u001b[39;00m \u001b[39mValueError\u001b[39;00m(\u001b[39mf\u001b[39m\u001b[39m\"\u001b[39m\u001b[39mAt col \u001b[39m\u001b[39m{\u001b[39;00mt\u001b[39m.\u001b[39mlexpos\u001b[39m}\u001b[39;00m\u001b[39m, \u001b[39m\u001b[39m{\u001b[39;00m\u001b[39mstr\u001b[39m(e)\u001b[39m}\u001b[39;00m\u001b[39m\"\u001b[39m)\n",
      "\u001b[0;31mValueError\u001b[0m: At col 0, ly is not a valid unit. Did you mean lyr?",
      "\nDuring handling of the above exception, another exception occurred:\n",
      "\u001b[0;31mValueError\u001b[0m                                Traceback (most recent call last)",
      "\u001b[1;32m/Users/juliencheung/Documents/GitHub/astro-coding-reference/purely astropy/assorted_astropy_tutorials.ipynb Cell 4\u001b[0m line \u001b[0;36m1\n\u001b[0;32m----> <a href='vscode-notebook-cell:/Users/juliencheung/Documents/GitHub/astro-coding-reference/purely%20astropy/assorted_astropy_tutorials.ipynb#W3sZmlsZQ%3D%3D?line=0'>1</a>\u001b[0m \u001b[39mprint\u001b[39m(const\u001b[39m.\u001b[39;49mc\u001b[39m.\u001b[39;49mto(\u001b[39m'\u001b[39;49m\u001b[39mly/s\u001b[39;49m\u001b[39m'\u001b[39;49m))\n",
      "File \u001b[0;32m/opt/homebrew/lib/python3.11/site-packages/astropy/units/quantity.py:934\u001b[0m, in \u001b[0;36mQuantity.to\u001b[0;34m(self, unit, equivalencies, copy)\u001b[0m\n\u001b[1;32m    906\u001b[0m \u001b[39m\u001b[39m\u001b[39m\"\"\"\u001b[39;00m\n\u001b[1;32m    907\u001b[0m \u001b[39mReturn a new `~astropy.units.Quantity` object with the specified unit.\u001b[39;00m\n\u001b[1;32m    908\u001b[0m \n\u001b[0;32m   (...)\u001b[0m\n\u001b[1;32m    930\u001b[0m \u001b[39mto_value : get the numerical value in a given unit.\u001b[39;00m\n\u001b[1;32m    931\u001b[0m \u001b[39m\"\"\"\u001b[39;00m\n\u001b[1;32m    932\u001b[0m \u001b[39m# We don't use `to_value` below since we always want to make a copy\u001b[39;00m\n\u001b[1;32m    933\u001b[0m \u001b[39m# and don't want to slow down this method (esp. the scalar case).\u001b[39;00m\n\u001b[0;32m--> 934\u001b[0m unit \u001b[39m=\u001b[39m Unit(unit)\n\u001b[1;32m    935\u001b[0m \u001b[39mif\u001b[39;00m copy:\n\u001b[1;32m    936\u001b[0m     \u001b[39m# Avoid using to_value to ensure that we make a copy. We also\u001b[39;00m\n\u001b[1;32m    937\u001b[0m     \u001b[39m# don't want to slow down this method (esp. the scalar case).\u001b[39;00m\n\u001b[1;32m    938\u001b[0m     value \u001b[39m=\u001b[39m \u001b[39mself\u001b[39m\u001b[39m.\u001b[39m_to_value(unit, equivalencies)\n",
      "File \u001b[0;32m/opt/homebrew/lib/python3.11/site-packages/astropy/units/core.py:2121\u001b[0m, in \u001b[0;36m_UnitMetaClass.__call__\u001b[0;34m(self, s, represents, format, namespace, doc, parse_strict)\u001b[0m\n\u001b[1;32m   2111\u001b[0m msg \u001b[39m=\u001b[39m (\n\u001b[1;32m   2112\u001b[0m     \u001b[39mf\u001b[39m\u001b[39m\"\u001b[39m\u001b[39m'\u001b[39m\u001b[39m{\u001b[39;00ms\u001b[39m}\u001b[39;00m\u001b[39m'\u001b[39m\u001b[39m did not parse as \u001b[39m\u001b[39m{\u001b[39;00mformat_clause\u001b[39m}\u001b[39;00m\u001b[39munit: \u001b[39m\u001b[39m{\u001b[39;00m\u001b[39mstr\u001b[39m(e)\u001b[39m}\u001b[39;00m\u001b[39m \u001b[39m\u001b[39m\"\u001b[39m\n\u001b[1;32m   2113\u001b[0m     \u001b[39m\"\u001b[39m\u001b[39mIf this is meant to be a custom unit, \u001b[39m\u001b[39m\"\u001b[39m\n\u001b[0;32m   (...)\u001b[0m\n\u001b[1;32m   2118\u001b[0m     \u001b[39m\"\u001b[39m\u001b[39mhttps://docs.astropy.org/en/latest/units/combining_and_defining.html\u001b[39m\u001b[39m\"\u001b[39m\n\u001b[1;32m   2119\u001b[0m )\n\u001b[1;32m   2120\u001b[0m \u001b[39mif\u001b[39;00m parse_strict \u001b[39m==\u001b[39m \u001b[39m\"\u001b[39m\u001b[39mraise\u001b[39m\u001b[39m\"\u001b[39m:\n\u001b[0;32m-> 2121\u001b[0m     \u001b[39mraise\u001b[39;00m \u001b[39mValueError\u001b[39;00m(msg)\n\u001b[1;32m   2122\u001b[0m \u001b[39melif\u001b[39;00m parse_strict \u001b[39m==\u001b[39m \u001b[39m\"\u001b[39m\u001b[39mwarn\u001b[39m\u001b[39m\"\u001b[39m:\n\u001b[1;32m   2123\u001b[0m     warnings\u001b[39m.\u001b[39mwarn(msg, UnitsWarning)\n",
      "\u001b[0;31mValueError\u001b[0m: 'ly/s' did not parse as unit: At col 0, ly is not a valid unit. Did you mean lyr? If this is meant to be a custom unit, define it with 'u.def_unit'. To have it recognized inside a file reader or other code, enable it with 'u.add_enabled_units'. For details, see https://docs.astropy.org/en/latest/units/combining_and_defining.html"
     ]
    }
   ],
   "source": [
    "print(const.c.to('ly/s'))"
   ]
  },
  {
   "cell_type": "markdown",
   "metadata": {},
   "source": [
    "Astropy also has it's own "
   ]
  },
  {
   "cell_type": "code",
   "execution_count": null,
   "metadata": {},
   "outputs": [],
   "source": []
  }
 ],
 "metadata": {
  "kernelspec": {
   "display_name": "Python 3",
   "language": "python",
   "name": "python3"
  },
  "language_info": {
   "codemirror_mode": {
    "name": "ipython",
    "version": 3
   },
   "file_extension": ".py",
   "mimetype": "text/x-python",
   "name": "python",
   "nbconvert_exporter": "python",
   "pygments_lexer": "ipython3",
   "version": "3.11.4"
  },
  "orig_nbformat": 4
 },
 "nbformat": 4,
 "nbformat_minor": 2
}
